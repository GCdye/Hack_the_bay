{
 "cells": [
  {
   "cell_type": "code",
   "execution_count": 1,
   "metadata": {},
   "outputs": [],
   "source": [
    "import pandas as pd\n",
    "import numpy as np\n",
    "import matplotlib.pyplot as plt"
   ]
  },
  {
   "cell_type": "markdown",
   "metadata": {},
   "source": [
    "# Cleaning Data"
   ]
  },
  {
   "cell_type": "code",
   "execution_count": 2,
   "metadata": {},
   "outputs": [
    {
     "name": "stderr",
     "output_type": "stream",
     "text": [
      "/Users/claycarson/anaconda3/envs/dsi/lib/python3.7/site-packages/IPython/core/interactiveshell.py:3063: DtypeWarning: Columns (2,3,4,5,6,9,11,13,15,17,21,22,23,24,27,28,31,32,33,34,35,36,37,40,41,42,43,44,45,46,47,48,49,50,55,56,57,58,59,60,61,62,63,64,65,66) have mixed types. Specify dtype option on import or set low_memory=False.\n",
      "  interactivity=interactivity, compiler=compiler, result=result)\n",
      "/Users/claycarson/anaconda3/envs/dsi/lib/python3.7/site-packages/numpy/lib/arraysetops.py:569: FutureWarning: elementwise comparison failed; returning scalar instead, but in the future will perform elementwise comparison\n",
      "  mask |= (ar1 == a)\n"
     ]
    }
   ],
   "source": [
    "df = pd.read_csv(\"./data/Water_FINAL.csv\", parse_dates = [['Date', 'Time']], index_col = 'Unnamed: 0')"
   ]
  },
  {
   "cell_type": "code",
   "execution_count": 3,
   "metadata": {},
   "outputs": [
    {
     "data": {
      "text/plain": [
       "Index(['Date_Time', 'Unnamed: 0.1', 'Agency', 'BiasPC', 'CloudCover',\n",
       "       'Comments', 'Cruise', 'Database', 'FieldActivityEventType',\n",
       "       'FieldActivityRemark', 'FlowStage', 'GaugeHeight', 'GroupCode', 'HUC12',\n",
       "       'Lab', 'Latitude', 'Layer', 'Longitude', 'LowerPycnocline',\n",
       "       'MeasureValue', 'Method', 'ModifiedDate', 'Other Comments',\n",
       "       'Other Conditions', 'Parameter', 'ParameterName_CBP',\n",
       "       'ParameterName_CMC', 'PrecipType', 'PrecisionPC', 'Pressure', 'Problem',\n",
       "       'Program', 'Project', 'Qualifier', 'Rainfall',\n",
       "       'Rainfall Within 24 Hours', 'Rainfall Within 48 Hours', 'SampleDepth',\n",
       "       'SampleId', 'SampleReplicateType', 'SampleType', 'Sea State', 'Source',\n",
       "       'Station', 'StationCode', 'StationName', 'Stream Flow', 'Tidal Stage',\n",
       "       'TideStage', 'TierLevel', 'TotalDepth', 'Unit', 'UpperPycnocline',\n",
       "       'Water Color', 'Water Color Description', 'Water Odor',\n",
       "       'Water Odor Description', 'Water Surfaces', 'WaveHeight',\n",
       "       'Weather Conditions Day Before Yesterday', 'Weather Conditions Today',\n",
       "       'Weather Conditions Yesterday', 'WindDirection', 'WindSpeed', 'state',\n",
       "       'Point', 'HUC12_', 'HUCNAME_', 'FIPS_', 'COUNTY_', 'STATE_'],\n",
       "      dtype='object')"
      ]
     },
     "execution_count": 3,
     "metadata": {},
     "output_type": "execute_result"
    }
   ],
   "source": [
    "df.columns"
   ]
  },
  {
   "cell_type": "code",
   "execution_count": 4,
   "metadata": {},
   "outputs": [],
   "source": [
    "df.drop(columns = 'Unnamed: 0.1', inplace = True)"
   ]
  },
  {
   "cell_type": "code",
   "execution_count": 5,
   "metadata": {},
   "outputs": [],
   "source": [
    "# Creating a list of column indices that have over 30% NaN values\n",
    "na_index = np.where(\n",
    "    round(df.isna().sum()/\n",
    "          len(df)*100, 2) \n",
    "    > 30)"
   ]
  },
  {
   "cell_type": "code",
   "execution_count": 6,
   "metadata": {},
   "outputs": [],
   "source": [
    "# Applying the indicies to get the list of column names\n",
    "na_columns = []\n",
    "for ind in na_index:\n",
    "    na_columns.append(df.columns[ind])"
   ]
  },
  {
   "cell_type": "code",
   "execution_count": 7,
   "metadata": {},
   "outputs": [
    {
     "data": {
      "text/plain": [
       "BiasPC                                     100.00\n",
       "Comments                                    96.48\n",
       "FieldActivityEventType                      92.75\n",
       "FieldActivityRemark                        100.00\n",
       "FlowStage                                   99.78\n",
       "GaugeHeight                                 96.32\n",
       "GroupCode                                   90.24\n",
       "Lab                                         68.06\n",
       "LowerPycnocline                             84.33\n",
       "ModifiedDate                                90.24\n",
       "Other Comments                              99.23\n",
       "Other Conditions                            99.84\n",
       "ParameterName_CMC                           90.24\n",
       "PrecipType                                  69.83\n",
       "PrecisionPC                                100.00\n",
       "Pressure                                    97.27\n",
       "Problem                                     98.89\n",
       "Qualifier                                   96.67\n",
       "Rainfall                                    99.25\n",
       "Rainfall Within 24 Hours                    99.80\n",
       "Rainfall Within 48 Hours                    99.02\n",
       "Sea State                                   99.80\n",
       "StationCode                                 90.24\n",
       "StationName                                 90.31\n",
       "Stream Flow                                 98.85\n",
       "Tidal Stage                                 97.63\n",
       "UpperPycnocline                             84.33\n",
       "Water Color                                 98.79\n",
       "Water Color Description                     97.40\n",
       "Water Odor                                  98.80\n",
       "Water Odor Description                      99.22\n",
       "Water Surfaces                              98.07\n",
       "WaveHeight                                  34.85\n",
       "Weather Conditions Day Before Yesterday     99.84\n",
       "Weather Conditions Today                    95.73\n",
       "Weather Conditions Yesterday                99.67\n",
       "WindDirection                               38.36\n",
       "WindSpeed                                   45.00\n",
       "state                                       90.24\n",
       "dtype: float64"
      ]
     },
     "execution_count": 7,
     "metadata": {},
     "output_type": "execute_result"
    }
   ],
   "source": [
    "# Evaluating the individual columns for their percentage of NaN values\n",
    "for column in na_columns:\n",
    "    na_series = pd.Series(round(df[column].isna().sum()/\n",
    "          len(df[column])*100, 2))\n",
    "na_series"
   ]
  },
  {
   "cell_type": "markdown",
   "metadata": {},
   "source": [
    "There are a lot of columns with over 90% NaN values"
   ]
  },
  {
   "cell_type": "code",
   "execution_count": 8,
   "metadata": {},
   "outputs": [
    {
     "name": "stdout",
     "output_type": "stream",
     "text": [
      "0.0 to <0.1M    779407\n",
      "0.1 to <0.3M    642084\n",
      "0.3 to <0.6M    244663\n",
      "0.6 to <1.0M     81289\n",
      "1.0 to <1.3M     16215\n",
      "> 1.3M            1151\n",
      "Name: WaveHeight, dtype: int64\n",
      "SW     243183\n",
      "NW     209279\n",
      "S      204290\n",
      "N      196571\n",
      "NE     190750\n",
      "W      152271\n",
      "SE     127262\n",
      "E      100946\n",
      "SSW     41627\n",
      "NNW     37795\n",
      "NNE     33259\n",
      "WSW     30344\n",
      "ENE     28174\n",
      "WNW     28140\n",
      "SSE     24014\n",
      "ESE     21789\n",
      "VAR        70\n",
      "sw         10\n",
      "Name: WindDirection, dtype: int64\n",
      ">1 To 10 Knots     1007658\n",
      ">10 To 20 Knots     257623\n",
      "0 To 1 Knot         166700\n",
      "Calm                 16722\n",
      "1-10 knots           16368\n",
      ">20 To 30 Knots      11393\n",
      ">30 To 40 Knots      11198\n",
      "10-20 knots           1534\n",
      ">40 Knots              551\n",
      "1-10 Knots             133\n",
      "10-20 Knots             29\n",
      "20-30 knots              6\n",
      "Name: WindSpeed, dtype: int64\n"
     ]
    }
   ],
   "source": [
    "#Checking out the three columns under 50% NaN\n",
    "for value in np.where(na_series.values < 50):\n",
    "    for col in na_series[value].index:\n",
    "        print(df[col].value_counts())"
   ]
  },
  {
   "cell_type": "markdown",
   "metadata": {},
   "source": [
    "I believe that WindSpeed and Waveheight can be imputed, but I'm not sure for WindDirection since it's more specific. Additionally, I'm going to leave the 'Problem' column in, because the few values that it does have indicate problems with the samples, which are data that I will want to drop"
   ]
  },
  {
   "cell_type": "code",
   "execution_count": 9,
   "metadata": {},
   "outputs": [],
   "source": [
    "# Dropping the columns with too many NaN values for potential imputation\n",
    "df.drop(columns = \n",
    "        na_series.index.drop(labels = ['Problem', 'WaveHeight', 'WindSpeed']), \n",
    "        inplace = True)"
   ]
  },
  {
   "cell_type": "code",
   "execution_count": 10,
   "metadata": {},
   "outputs": [],
   "source": [
    "# Dropping data with any kind of 'Problem' value\n",
    "df = df[df.Problem.isna()==True]\n",
    "\n",
    "df.drop(columns = 'Problem', inplace = True)"
   ]
  },
  {
   "cell_type": "code",
   "execution_count": 11,
   "metadata": {},
   "outputs": [
    {
     "data": {
      "text/plain": [
       "Date_Time               0.00\n",
       "Agency                  9.82\n",
       "CloudCover             17.52\n",
       "Cruise                  9.82\n",
       "Database                0.00\n",
       "HUC12                   9.82\n",
       "Latitude                0.00\n",
       "Layer                   9.84\n",
       "Longitude               0.00\n",
       "MeasureValue            0.00\n",
       "Method                  9.82\n",
       "Parameter               0.00\n",
       "ParameterName_CBP       0.00\n",
       "Program                 9.82\n",
       "Project                 9.82\n",
       "SampleDepth             0.14\n",
       "SampleId                0.00\n",
       "SampleReplicateType     9.82\n",
       "SampleType              9.84\n",
       "Source                  9.82\n",
       "Station                 9.82\n",
       "TideStage              23.67\n",
       "TierLevel               0.00\n",
       "TotalDepth             22.14\n",
       "Unit                    0.00\n",
       "WaveHeight             34.54\n",
       "WindSpeed              44.77\n",
       "Point                   0.00\n",
       "HUC12_                  0.00\n",
       "HUCNAME_                0.00\n",
       "FIPS_                   0.00\n",
       "COUNTY_                 0.00\n",
       "STATE_                  0.00\n",
       "dtype: float64"
      ]
     },
     "execution_count": 11,
     "metadata": {},
     "output_type": "execute_result"
    }
   ],
   "source": [
    "# Checking the other column NaN values\n",
    "round(df.isna().sum()/\n",
    "          len(df)*100, 2)"
   ]
  },
  {
   "cell_type": "markdown",
   "metadata": {},
   "source": [
    "We will leave any columns with under 10% NaN values because we'll just end up dropping the null data"
   ]
  },
  {
   "cell_type": "code",
   "execution_count": 12,
   "metadata": {},
   "outputs": [
    {
     "data": {
      "text/plain": [
       "Ebb Tide           0.501558\n",
       "Flood Tide         0.413212\n",
       "High Slack Tide    0.043134\n",
       "Low Slack Tide     0.042096\n",
       "Name: TideStage, dtype: float64"
      ]
     },
     "execution_count": 12,
     "metadata": {},
     "output_type": "execute_result"
    }
   ],
   "source": [
    "df.TideStage.value_counts(normalize=True)"
   ]
  },
  {
   "cell_type": "markdown",
   "metadata": {},
   "source": [
    "It looks like we could fill this one in with random alternating values, since they're split almost 50/50 between 'Ebb' and 'Flood' tides"
   ]
  },
  {
   "cell_type": "code",
   "execution_count": 13,
   "metadata": {},
   "outputs": [
    {
     "name": "stdout",
     "output_type": "stream",
     "text": [
      "153.0 11.506214285748527 10.0 9.198505823186569\n"
     ]
    }
   ],
   "source": [
    "print(df.TotalDepth.max(), df.TotalDepth.mean(), df.TotalDepth.median(), df.TotalDepth.std())"
   ]
  },
  {
   "cell_type": "code",
   "execution_count": 14,
   "metadata": {},
   "outputs": [
    {
     "data": {
      "image/png": "[encoded data removed]",
      "text/plain": [
       "<Figure size 432x288 with 1 Axes>"
      ]
     },
     "metadata": {
      "needs_background": "light"
     },
     "output_type": "display_data"
    }
   ],
   "source": [
    "df.TotalDepth.hist(bins = 40)\n",
    "plt.xlim([0, 40]);"
   ]
  },
  {
   "cell_type": "markdown",
   "metadata": {},
   "source": [
    "This is a column we could fill in with the mean value"
   ]
  },
  {
   "cell_type": "code",
   "execution_count": 15,
   "metadata": {},
   "outputs": [
    {
     "data": {
      "text/plain": [
       "Clear (0-10%)                          738071\n",
       "Overcast (>90%)                        501394\n",
       "Scattered To Partly Cloudy (10-50%)    453962\n",
       "Partly To Broken (50-90%)              351833\n",
       "Cloud (No Percentage)                  114209\n",
       "Hazy                                    32739\n",
       "Foggy                                   12299\n",
       "Clear                                    2419\n",
       "Partially cloudy (10-50%)                1587\n",
       "Partially cloudy (50-90%)                 775\n",
       "Cloudy (no percentage)                     35\n",
       "Name: CloudCover, dtype: int64"
      ]
     },
     "execution_count": 15,
     "metadata": {},
     "output_type": "execute_result"
    }
   ],
   "source": [
    "df['CloudCover'].value_counts()"
   ]
  },
  {
   "cell_type": "markdown",
   "metadata": {},
   "source": [
    "# Imputation"
   ]
  },
  {
   "cell_type": "markdown",
   "metadata": {},
   "source": [
    "So the five columns that need to be imputed are CloudCover, TotalDepth, Tidestage, WaveHeight, and WindSpeed. I'm going to make the executive decision to drop CloudCover, WaveHeight, and WindSpeed because I don't see them having an overwhelming effect on the values that we want to look at and because there are too many values to impute with no discernible pattern"
   ]
  },
  {
   "cell_type": "code",
   "execution_count": 16,
   "metadata": {},
   "outputs": [],
   "source": [
    "import random"
   ]
  },
  {
   "cell_type": "code",
   "execution_count": 17,
   "metadata": {},
   "outputs": [],
   "source": [
    "# Replacing TideStage NaN values with a randomized choice of \"Ebb Tide\" or \"Flood Tide\"\n",
    "tides = ['Ebb Tide', 'Flood Tide']\n",
    "\n",
    "df['TideStage'].fillna(np.nan, inplace = True)\n",
    "\n",
    "df.loc[:, 'TideStage'] = df['TideStage'].apply(lambda x: random.choice(tides) if x is np.nan else x)"
   ]
  },
  {
   "cell_type": "code",
   "execution_count": 18,
   "metadata": {},
   "outputs": [
    {
     "data": {
      "text/html": [
       "<div>\n",
       "<style scoped>\n",
       "    .dataframe tbody tr th:only-of-type {\n",
       "        vertical-align: middle;\n",
       "    }\n",
       "\n",
       "    .dataframe tbody tr th {\n",
       "        vertical-align: top;\n",
       "    }\n",
       "\n",
       "    .dataframe thead th {\n",
       "        text-align: right;\n",
       "    }\n",
       "</style>\n",
       "<table border=\"1\" class=\"dataframe\">\n",
       "  <thead>\n",
       "    <tr style=\"text-align: right;\">\n",
       "      <th></th>\n",
       "      <th>TotalDepth</th>\n",
       "      <th>SampleDepth</th>\n",
       "    </tr>\n",
       "    <tr>\n",
       "      <th>SampleId</th>\n",
       "      <th></th>\n",
       "      <th></th>\n",
       "    </tr>\n",
       "  </thead>\n",
       "  <tbody>\n",
       "    <tr>\n",
       "      <th>1.0</th>\n",
       "      <td>NaN</td>\n",
       "      <td>14.30</td>\n",
       "    </tr>\n",
       "    <tr>\n",
       "      <th>2.0</th>\n",
       "      <td>NaN</td>\n",
       "      <td>5.00</td>\n",
       "    </tr>\n",
       "    <tr>\n",
       "      <th>2179.0</th>\n",
       "      <td>1.8</td>\n",
       "      <td>1.75</td>\n",
       "    </tr>\n",
       "    <tr>\n",
       "      <th>2180.0</th>\n",
       "      <td>NaN</td>\n",
       "      <td>0.30</td>\n",
       "    </tr>\n",
       "    <tr>\n",
       "      <th>2181.0</th>\n",
       "      <td>NaN</td>\n",
       "      <td>0.00</td>\n",
       "    </tr>\n",
       "    <tr>\n",
       "      <th>...</th>\n",
       "      <td>...</td>\n",
       "      <td>...</td>\n",
       "    </tr>\n",
       "    <tr>\n",
       "      <th>462087.0</th>\n",
       "      <td>33.0</td>\n",
       "      <td>32.00</td>\n",
       "    </tr>\n",
       "    <tr>\n",
       "      <th>462088.0</th>\n",
       "      <td>35.5</td>\n",
       "      <td>34.00</td>\n",
       "    </tr>\n",
       "    <tr>\n",
       "      <th>462089.0</th>\n",
       "      <td>31.5</td>\n",
       "      <td>30.00</td>\n",
       "    </tr>\n",
       "    <tr>\n",
       "      <th>462090.0</th>\n",
       "      <td>27.0</td>\n",
       "      <td>26.00</td>\n",
       "    </tr>\n",
       "    <tr>\n",
       "      <th>462091.0</th>\n",
       "      <td>20.0</td>\n",
       "      <td>19.00</td>\n",
       "    </tr>\n",
       "  </tbody>\n",
       "</table>\n",
       "<p>85990 rows × 2 columns</p>\n",
       "</div>"
      ],
      "text/plain": [
       "          TotalDepth  SampleDepth\n",
       "SampleId                         \n",
       "1.0              NaN        14.30\n",
       "2.0              NaN         5.00\n",
       "2179.0           1.8         1.75\n",
       "2180.0           NaN         0.30\n",
       "2181.0           NaN         0.00\n",
       "...              ...          ...\n",
       "462087.0        33.0        32.00\n",
       "462088.0        35.5        34.00\n",
       "462089.0        31.5        30.00\n",
       "462090.0        27.0        26.00\n",
       "462091.0        20.0        19.00\n",
       "\n",
       "[85990 rows x 2 columns]"
      ]
     },
     "execution_count": 18,
     "metadata": {},
     "output_type": "execute_result"
    }
   ],
   "source": [
    "df[['SampleId','TotalDepth', 'SampleDepth']].groupby('SampleId').max()"
   ]
  },
  {
   "cell_type": "markdown",
   "metadata": {},
   "source": [
    "Now this is interesting. It looks like the TotalDepth values for each sample are almost perfect approximations of the maximum SampleDepth value. I'm going to use this relationship to fill in each missing TotalDepth value"
   ]
  },
  {
   "cell_type": "code",
   "execution_count": 19,
   "metadata": {},
   "outputs": [
    {
     "data": {
      "text/plain": [
       "592962"
      ]
     },
     "execution_count": 19,
     "metadata": {},
     "output_type": "execute_result"
    }
   ],
   "source": [
    "df['TotalDepth'].isna().sum()"
   ]
  },
  {
   "cell_type": "code",
   "execution_count": 22,
   "metadata": {},
   "outputs": [],
   "source": [
    "# Grouping the depth columns by SampleId into a temporary dataframe\n",
    "depth_grouped = df[['SampleId','TotalDepth', 'SampleDepth']].groupby('SampleId').max()\n",
    "\n",
    "# Filling the NaN values of TotalDepth with the max SampleDepth value\n",
    "filled_depth = depth_grouped['TotalDepth'].fillna(depth_grouped['SampleDepth'])\n",
    "\n",
    "# Merging the newly filled TotalDepth series into the original dataframe\n",
    "df = pd.merge(df, filled_depth, how = 'outer', on = 'SampleId')\n",
    "\n",
    "# Rename the new TotalDepth_y column back to 'TotalDepth'\n",
    "df.rename(columns = {'TotalDepth_y' :'TotalDepth'}, inplace = True)"
   ]
  },
  {
   "cell_type": "code",
   "execution_count": 24,
   "metadata": {},
   "outputs": [
    {
     "data": {
      "text/plain": [
       "0"
      ]
     },
     "execution_count": 24,
     "metadata": {},
     "output_type": "execute_result"
    }
   ],
   "source": [
    "# Checking to see if there are any remaining NaN values\n",
    "df['TotalDepth'].isna().sum()"
   ]
  },
  {
   "cell_type": "markdown",
   "metadata": {},
   "source": [
    "So at this point, all of our relevant columns that were missing over 10% of data have either been dropped or imputed, so we will drop the remaining NaN values since they make up less than 10% of the data  "
   ]
  },
  {
   "cell_type": "code",
   "execution_count": 32,
   "metadata": {},
   "outputs": [],
   "source": [
    "# Dropping columns with over 10% missing values\n",
    "for column in df:\n",
    "    if round(df[column].isna().sum()/len(df) * 100, 2) > 10:\n",
    "        df.drop(columns = column, inplace = True)"
   ]
  },
  {
   "cell_type": "code",
   "execution_count": 35,
   "metadata": {},
   "outputs": [],
   "source": [
    "# Dropping all rows with missing values\n",
    "df.dropna(inplace = True)"
   ]
  },
  {
   "cell_type": "code",
   "execution_count": 37,
   "metadata": {},
   "outputs": [
    {
     "name": "stdout",
     "output_type": "stream",
     "text": [
      "(2414996, 30)\n",
      "0\n"
     ]
    }
   ],
   "source": [
    "print(df.shape)\n",
    "print(df.isna().sum().sum())"
   ]
  },
  {
   "cell_type": "markdown",
   "metadata": {},
   "source": [
    "We have almost 2.5 million data points left to work with and no null values"
   ]
  },
  {
   "cell_type": "code",
   "execution_count": 38,
   "metadata": {},
   "outputs": [],
   "source": [
    "df.to_csv('./data/Water_CLEAN.csv')"
   ]
  }
 ],
 "metadata": {
  "kernelspec": {
   "display_name": "Python [conda env:dsi] *",
   "language": "python",
   "name": "conda-env-dsi-py"
  },
  "language_info": {
   "codemirror_mode": {
    "name": "ipython",
    "version": 3
   },
   "file_extension": ".py",
   "mimetype": "text/x-python",
   "name": "python",
   "nbconvert_exporter": "python",
   "pygments_lexer": "ipython3",
   "version": "3.7.7"
  }
 },
 "nbformat": 4,
 "nbformat_minor": 4
}
