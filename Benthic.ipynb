{
 "cells": [
  {
   "cell_type": "markdown",
   "metadata": {},
   "source": [
    "**Imports**"
   ]
  },
  {
   "cell_type": "code",
   "execution_count": 3,
   "metadata": {},
   "outputs": [],
   "source": [
    "import pandas as pd\n",
    "import numpy as np"
   ]
  },
  {
   "cell_type": "code",
   "execution_count": 4,
   "metadata": {},
   "outputs": [],
   "source": [
    "# set display widht and length\n",
    "\n",
    "pd.set_option('display.max_rows', 100)\n",
    "pd.set_option('display.max_columns', 110)"
   ]
  },
  {
   "cell_type": "markdown",
   "metadata": {},
   "source": [
    "#### CBP Benthic Data"
   ]
  },
  {
   "cell_type": "code",
   "execution_count": 5,
   "metadata": {},
   "outputs": [],
   "source": [
    "cbp_benthic = pd.read_csv('/Users/bibor/Hack_the_Bay/Data/CBP_Benthic.csv')"
   ]
  },
  {
   "cell_type": "code",
   "execution_count": 6,
   "metadata": {},
   "outputs": [],
   "source": [
    "# drop columns where all values are missing\n",
    "\n",
    "for column in cbp_benthic.columns:\n",
    "    if cbp_benthic[column].isna().sum() == cbp_benthic.shape[0]:\n",
    "        cbp_benthic.drop(column, axis=1, inplace=True)"
   ]
  },
  {
   "cell_type": "code",
   "execution_count": 8,
   "metadata": {},
   "outputs": [],
   "source": [
    "# drop Unnamed:0.1 and Unnamed: 0.1.1 columns\n",
    "\n",
    "cbp_benthic.drop(['Unnamed: 0', 'Unnamed: 0.1', 'Unnamed: 0.1.1'], axis=1, inplace=True)"
   ]
  },
  {
   "cell_type": "code",
   "execution_count": 9,
   "metadata": {},
   "outputs": [
    {
     "data": {
      "text/plain": [
       "(129671, 32)"
      ]
     },
     "execution_count": 9,
     "metadata": {},
     "output_type": "execute_result"
    }
   ],
   "source": [
    "cbp_benthic.shape"
   ]
  },
  {
   "cell_type": "code",
   "execution_count": 10,
   "metadata": {
    "scrolled": true
   },
   "outputs": [
    {
     "name": "stdout",
     "output_type": "stream",
     "text": [
      "<class 'pandas.core.frame.DataFrame'>\n",
      "RangeIndex: 129671 entries, 0 to 129670\n",
      "Data columns (total 32 columns):\n",
      " #   Column                       Non-Null Count   Dtype  \n",
      "---  ------                       --------------   -----  \n",
      " 0   Agency                       129671 non-null  object \n",
      " 1   Benthic Classification Name  129671 non-null  object \n",
      " 2   BioMethod                    129671 non-null  object \n",
      " 3   Count                        129671 non-null  object \n",
      " 4   CountyCity                   129671 non-null  object \n",
      " 5   Database                     129671 non-null  object \n",
      " 6   Date                         129671 non-null  object \n",
      " 7   EcoRegionLevel3              129671 non-null  float64\n",
      " 8   EcoRegionLevel3Description   129671 non-null  object \n",
      " 9   EventId                      129671 non-null  float64\n",
      " 10  FIPS                         129671 non-null  float64\n",
      " 11  GMethod                      129671 non-null  float64\n",
      " 12  HUC12                        129671 non-null  float64\n",
      " 13  HUC12Description             129671 non-null  object \n",
      " 14  HUC8                         129671 non-null  float64\n",
      " 15  HUC8Description              129671 non-null  object \n",
      " 16  Latitude                     129671 non-null  float64\n",
      " 17  LifeStageCode                129671 non-null  float64\n",
      " 18  Longitude                    129671 non-null  float64\n",
      " 19  ReportingUnits               129671 non-null  object \n",
      " 20  ReportingValue               129671 non-null  float64\n",
      " 21  SampleType                   129671 non-null  object \n",
      " 22  State                        129671 non-null  object \n",
      " 23  Station                      129671 non-null  object \n",
      " 24  TSN                          129671 non-null  float64\n",
      " 25  Time                         129671 non-null  object \n",
      " 26  Point                        129671 non-null  object \n",
      " 27  HUC12_                       129671 non-null  int64  \n",
      " 28  HUCNAME_                     129671 non-null  object \n",
      " 29  FIPS_                        129671 non-null  int64  \n",
      " 30  COUNTY_                      129671 non-null  object \n",
      " 31  STATE_                       129671 non-null  object \n",
      "dtypes: float64(11), int64(2), object(19)\n",
      "memory usage: 31.7+ MB\n"
     ]
    }
   ],
   "source": [
    "cbp_benthic.info()"
   ]
  },
  {
   "cell_type": "markdown",
   "metadata": {},
   "source": [
    "**Variables of interest:** Benthic Classification Name (organism), EventId, ReportingValue"
   ]
  },
  {
   "cell_type": "code",
   "execution_count": 11,
   "metadata": {},
   "outputs": [
    {
     "data": {
      "text/html": [
       "<div>\n",
       "<style scoped>\n",
       "    .dataframe tbody tr th:only-of-type {\n",
       "        vertical-align: middle;\n",
       "    }\n",
       "\n",
       "    .dataframe tbody tr th {\n",
       "        vertical-align: top;\n",
       "    }\n",
       "\n",
       "    .dataframe thead th {\n",
       "        text-align: right;\n",
       "    }\n",
       "</style>\n",
       "<table border=\"1\" class=\"dataframe\">\n",
       "  <thead>\n",
       "    <tr style=\"text-align: right;\">\n",
       "      <th></th>\n",
       "      <th>Agency</th>\n",
       "      <th>Benthic Classification Name</th>\n",
       "      <th>BioMethod</th>\n",
       "      <th>Count</th>\n",
       "      <th>CountyCity</th>\n",
       "      <th>Database</th>\n",
       "      <th>Date</th>\n",
       "      <th>EcoRegionLevel3</th>\n",
       "      <th>EcoRegionLevel3Description</th>\n",
       "      <th>EventId</th>\n",
       "      <th>FIPS</th>\n",
       "      <th>GMethod</th>\n",
       "      <th>HUC12</th>\n",
       "      <th>HUC12Description</th>\n",
       "      <th>HUC8</th>\n",
       "      <th>HUC8Description</th>\n",
       "      <th>Latitude</th>\n",
       "      <th>LifeStageCode</th>\n",
       "      <th>Longitude</th>\n",
       "      <th>ReportingUnits</th>\n",
       "      <th>ReportingValue</th>\n",
       "      <th>SampleType</th>\n",
       "      <th>State</th>\n",
       "      <th>Station</th>\n",
       "      <th>TSN</th>\n",
       "      <th>Time</th>\n",
       "      <th>Point</th>\n",
       "      <th>HUC12_</th>\n",
       "      <th>HUCNAME_</th>\n",
       "      <th>FIPS_</th>\n",
       "      <th>COUNTY_</th>\n",
       "      <th>STATE_</th>\n",
       "    </tr>\n",
       "  </thead>\n",
       "  <tbody>\n",
       "  </tbody>\n",
       "</table>\n",
       "</div>"
      ],
      "text/plain": [
       "Empty DataFrame\n",
       "Columns: [Agency, Benthic Classification Name, BioMethod, Count, CountyCity, Database, Date, EcoRegionLevel3, EcoRegionLevel3Description, EventId, FIPS, GMethod, HUC12, HUC12Description, HUC8, HUC8Description, Latitude, LifeStageCode, Longitude, ReportingUnits, ReportingValue, SampleType, State, Station, TSN, Time, Point, HUC12_, HUCNAME_, FIPS_, COUNTY_, STATE_]\n",
       "Index: []"
      ]
     },
     "execution_count": 11,
     "metadata": {},
     "output_type": "execute_result"
    }
   ],
   "source": [
    "# create for loop to find ecoli in 'Benthic Classification Name'\n",
    "\n",
    "mask = cbp_benthic['Benthic Classification Name'].str.lower().str.contains('ecoli')\n",
    "cbp_benthic.loc[mask]\n",
    "\n",
    "# no ecoli in this column"
   ]
  },
  {
   "cell_type": "code",
   "execution_count": 60,
   "metadata": {},
   "outputs": [
    {
     "data": {
      "text/html": [
       "<div>\n",
       "<style scoped>\n",
       "    .dataframe tbody tr th:only-of-type {\n",
       "        vertical-align: middle;\n",
       "    }\n",
       "\n",
       "    .dataframe tbody tr th {\n",
       "        vertical-align: top;\n",
       "    }\n",
       "\n",
       "    .dataframe thead th {\n",
       "        text-align: right;\n",
       "    }\n",
       "</style>\n",
       "<table border=\"1\" class=\"dataframe\">\n",
       "  <thead>\n",
       "    <tr style=\"text-align: right;\">\n",
       "      <th></th>\n",
       "      <th>EventId</th>\n",
       "      <th>Benthic Classification Name</th>\n",
       "      <th>ReportingValue</th>\n",
       "    </tr>\n",
       "  </thead>\n",
       "  <tbody>\n",
       "    <tr>\n",
       "      <th>9351</th>\n",
       "      <td>74157.0</td>\n",
       "      <td>Sperchon</td>\n",
       "      <td>2.0</td>\n",
       "    </tr>\n",
       "    <tr>\n",
       "      <th>9376</th>\n",
       "      <td>74157.0</td>\n",
       "      <td>Crangonyx</td>\n",
       "      <td>1.0</td>\n",
       "    </tr>\n",
       "    <tr>\n",
       "      <th>9373</th>\n",
       "      <td>74157.0</td>\n",
       "      <td>Hydropsyche</td>\n",
       "      <td>2.0</td>\n",
       "    </tr>\n",
       "    <tr>\n",
       "      <th>9370</th>\n",
       "      <td>74157.0</td>\n",
       "      <td>Clinocera</td>\n",
       "      <td>3.0</td>\n",
       "    </tr>\n",
       "    <tr>\n",
       "      <th>9368</th>\n",
       "      <td>74157.0</td>\n",
       "      <td>Oligochaeta</td>\n",
       "      <td>16.0</td>\n",
       "    </tr>\n",
       "    <tr>\n",
       "      <th>...</th>\n",
       "      <td>...</td>\n",
       "      <td>...</td>\n",
       "      <td>...</td>\n",
       "    </tr>\n",
       "    <tr>\n",
       "      <th>123230</th>\n",
       "      <td>95779.0</td>\n",
       "      <td>Probezzia</td>\n",
       "      <td>3.0</td>\n",
       "    </tr>\n",
       "    <tr>\n",
       "      <th>123229</th>\n",
       "      <td>95779.0</td>\n",
       "      <td>Ceratopsyche</td>\n",
       "      <td>10.0</td>\n",
       "    </tr>\n",
       "    <tr>\n",
       "      <th>123228</th>\n",
       "      <td>95779.0</td>\n",
       "      <td>Epeorus</td>\n",
       "      <td>9.0</td>\n",
       "    </tr>\n",
       "    <tr>\n",
       "      <th>123237</th>\n",
       "      <td>95779.0</td>\n",
       "      <td>Leuctra</td>\n",
       "      <td>11.0</td>\n",
       "    </tr>\n",
       "    <tr>\n",
       "      <th>123232</th>\n",
       "      <td>95779.0</td>\n",
       "      <td>Prosimulium</td>\n",
       "      <td>2.0</td>\n",
       "    </tr>\n",
       "  </tbody>\n",
       "</table>\n",
       "<p>129671 rows × 3 columns</p>\n",
       "</div>"
      ],
      "text/plain": [
       "        EventId Benthic Classification Name  ReportingValue\n",
       "9351    74157.0                    Sperchon             2.0\n",
       "9376    74157.0                   Crangonyx             1.0\n",
       "9373    74157.0                 Hydropsyche             2.0\n",
       "9370    74157.0                   Clinocera             3.0\n",
       "9368    74157.0                 Oligochaeta            16.0\n",
       "...         ...                         ...             ...\n",
       "123230  95779.0                   Probezzia             3.0\n",
       "123229  95779.0                Ceratopsyche            10.0\n",
       "123228  95779.0                     Epeorus             9.0\n",
       "123237  95779.0                     Leuctra            11.0\n",
       "123232  95779.0                 Prosimulium             2.0\n",
       "\n",
       "[129671 rows x 3 columns]"
      ]
     },
     "execution_count": 60,
     "metadata": {},
     "output_type": "execute_result"
    }
   ],
   "source": [
    "cbp_benthic.sort_values(by='EventId')[['EventId', 'Benthic Classification Name', 'ReportingValue']]"
   ]
  },
  {
   "cell_type": "code",
   "execution_count": 13,
   "metadata": {},
   "outputs": [],
   "source": [
    "cbp_benthic.to_csv('/Users/bibor/Hack_the_Bay/Data/CBP_Benthic_clean.csv', index=False)"
   ]
  },
  {
   "cell_type": "markdown",
   "metadata": {},
   "source": [
    "#### CMC Benthic Data"
   ]
  },
  {
   "cell_type": "code",
   "execution_count": 9,
   "metadata": {},
   "outputs": [],
   "source": [
    "cmc_benthic = pd.read_excel(\n",
    "    '/Users/bibor/Hack_the_Bay/Data/CMC_Benthic_Data.xlsx',\n",
    "    sheet_name=0,\n",
    "    engine='xlrd')"
   ]
  },
  {
   "cell_type": "code",
   "execution_count": 10,
   "metadata": {},
   "outputs": [
    {
     "data": {
      "text/plain": [
       "(122582, 29)"
      ]
     },
     "execution_count": 10,
     "metadata": {},
     "output_type": "execute_result"
    }
   ],
   "source": [
    "cmc_benthic.shape"
   ]
  },
  {
   "cell_type": "code",
   "execution_count": 11,
   "metadata": {
    "scrolled": true
   },
   "outputs": [
    {
     "name": "stdout",
     "output_type": "stream",
     "text": [
      "<class 'pandas.core.frame.DataFrame'>\n",
      "RangeIndex: 122582 entries, 0 to 122581\n",
      "Data columns (total 29 columns):\n",
      " #   Column                 Non-Null Count   Dtype  \n",
      "---  ------                 --------------   -----  \n",
      " 0   EVENT_ID               122582 non-null  int64  \n",
      " 1   SAMPLE_NUMBER          122582 non-null  int64  \n",
      " 2   STATION_ID             122582 non-null  object \n",
      " 3   ICPRB_BIOREGION_ID     122582 non-null  object \n",
      " 4   STRAHLER_STREAM_ORDER  0 non-null       float64\n",
      " 5   G_Method               122582 non-null  int64  \n",
      " 6   SAMPLE_DATE            122582 non-null  object \n",
      " 7   MONTH                  122582 non-null  int64  \n",
      " 8   Latitude               122582 non-null  object \n",
      " 9   Longitude              122582 non-null  float64\n",
      " 10  FINAL_ID               122519 non-null  object \n",
      " 11  REPORTING_VALUE        122519 non-null  object \n",
      " 12  TSN_FINAL              122519 non-null  object \n",
      " 13  TAXON_LEVEL            122519 non-null  object \n",
      " 14  PHYLUM                 122519 non-null  object \n",
      " 15  SUBPHYLUM              122519 non-null  object \n",
      " 16  CLASS                  122519 non-null  object \n",
      " 17  SUBCLASS               122519 non-null  object \n",
      " 18  ORDER                  122519 non-null  object \n",
      " 19  SUBORDER               122519 non-null  object \n",
      " 20  FAMILY                 122519 non-null  object \n",
      " 21  SUBFAMILY              122519 non-null  object \n",
      " 22  TRIBE                  122519 non-null  object \n",
      " 23  GENUS                  122519 non-null  object \n",
      " 24  SPECIES                122519 non-null  object \n",
      " 25  ASPT                   122519 non-null  object \n",
      " 26  BIBI_TV                122519 non-null  object \n",
      " 27  BIBI_FFG               41353 non-null   object \n",
      " 28  BIBI_HABIT             41353 non-null   object \n",
      "dtypes: float64(2), int64(4), object(23)\n",
      "memory usage: 27.1+ MB\n"
     ]
    }
   ],
   "source": [
    "cmc_benthic.info()"
   ]
  },
  {
   "cell_type": "markdown",
   "metadata": {},
   "source": [
    "Note: TSN_FINAL should be a seven digit number, TAXON_LEVEL is FAM, \n",
    "source: https://www.chesapeakebay.net/documents/3683/benthic_rdbms_sql_7-29-10.pdf\n",
    "\n",
    "Inspecting the cmc_benthic file in excel revealed that latitude and longitude columns must have been inserted by mistake - data up to index 41352 (included) has two extra columns (latitude and longitude) compared to data starting from index 41353. Hence, values are missing in the last two columns (BIBI_FFG and BIBI_HABIT) starting from index 41353."
   ]
  },
  {
   "cell_type": "code",
   "execution_count": 12,
   "metadata": {},
   "outputs": [],
   "source": [
    "# select first part of data (up to index 41352)\n",
    "first_part = cmc_benthic.iloc[:41353]"
   ]
  },
  {
   "cell_type": "code",
   "execution_count": 13,
   "metadata": {},
   "outputs": [],
   "source": [
    "# drop Latitude and Longitude from first part of dataframe\n",
    "clean_first = first_part.drop(['Latitude', 'Longitude'],\n",
    "                axis=1)"
   ]
  },
  {
   "cell_type": "code",
   "execution_count": 14,
   "metadata": {},
   "outputs": [],
   "source": [
    "# select second part of dataset (from index 41353)\n",
    "second_part = cmc_benthic.iloc[41353:]"
   ]
  },
  {
   "cell_type": "code",
   "execution_count": 15,
   "metadata": {},
   "outputs": [],
   "source": [
    "# rename columns in second part: delete column names Latitude and Longitude, and shift all other column names left\n",
    "\n",
    "# create list of columns\n",
    "columns_old = list(second_part.columns)\n",
    "columns_new = list(second_part.columns[:8].append(second_part.columns[10:])) + ['Extra1', 'Extra2']\n",
    "\n",
    "# rename columns\n",
    "clean_second = second_part.rename(columns={old: new for (old, new) in zip(columns_old, columns_new)})"
   ]
  },
  {
   "cell_type": "code",
   "execution_count": 16,
   "metadata": {},
   "outputs": [],
   "source": [
    "# drop columns Extra1 and Extra2\n",
    "clean_second.drop(columns=['Extra1', 'Extra2'], inplace=True)"
   ]
  },
  {
   "cell_type": "code",
   "execution_count": 17,
   "metadata": {},
   "outputs": [],
   "source": [
    "# merge clean_first and clean_second\n",
    "clean_benthic = clean_first.append(clean_second, verify_integrity=True)"
   ]
  },
  {
   "cell_type": "code",
   "execution_count": 18,
   "metadata": {},
   "outputs": [],
   "source": [
    "# where 'FAMILY' is 'UNIDENTIFIED' = the organism is unidintified, and measured values are missing (ASPT, BIBI_TV, etc.) (448 rows)\n",
    "# dropping those rows from dataframe\n",
    "clean_benthic = clean_benthic.loc[clean_benthic['FAMILY'] != 'UNIDENTIFIED']"
   ]
  },
  {
   "cell_type": "code",
   "execution_count": 19,
   "metadata": {
    "scrolled": true
   },
   "outputs": [],
   "source": [
    "# clean_benthic.info()"
   ]
  },
  {
   "cell_type": "code",
   "execution_count": 20,
   "metadata": {},
   "outputs": [],
   "source": [
    "# all values of column STRAHLER_STREAM_ORDER are missing\n",
    "# dropping column STRAHLER_STREAM_ORDER\n",
    "clean_benthic.drop(columns='STRAHLER_STREAM_ORDER', inplace=True)"
   ]
  },
  {
   "cell_type": "markdown",
   "metadata": {},
   "source": [
    "**Benthic Metadata**"
   ]
  },
  {
   "cell_type": "code",
   "execution_count": 21,
   "metadata": {},
   "outputs": [],
   "source": [
    "cmc_benthic_meta = pd.read_excel(\n",
    "    '/Users/bibor/Hack_the_Bay/Data/CMC_Benthic_Data.xlsx',\n",
    "    sheet_name=1,\n",
    "    engine='xlrd')"
   ]
  },
  {
   "cell_type": "code",
   "execution_count": 22,
   "metadata": {},
   "outputs": [
    {
     "data": {
      "text/plain": [
       "(122582, 4)"
      ]
     },
     "execution_count": 22,
     "metadata": {},
     "output_type": "execute_result"
    }
   ],
   "source": [
    "cmc_benthic_meta.shape"
   ]
  },
  {
   "cell_type": "code",
   "execution_count": 23,
   "metadata": {},
   "outputs": [],
   "source": [
    "# create dataframe with unique station_id and corresponding Lat/ Long data\n",
    "unique_stations = cmc_benthic_meta.drop_duplicates('STATION_ID')"
   ]
  },
  {
   "cell_type": "code",
   "execution_count": 24,
   "metadata": {},
   "outputs": [
    {
     "name": "stderr",
     "output_type": "stream",
     "text": [
      "/Users/bibor/opt/anaconda3/envs/hackbay/lib/python3.7/site-packages/pandas/core/frame.py:4164: SettingWithCopyWarning: \n",
      "A value is trying to be set on a copy of a slice from a DataFrame\n",
      "\n",
      "See the caveats in the documentation: https://pandas.pydata.org/pandas-docs/stable/user_guide/indexing.html#returning-a-view-versus-a-copy\n",
      "  errors=errors,\n"
     ]
    }
   ],
   "source": [
    "# drop ICPRB_BIOREGION_ID column\n",
    "unique_stations.drop(columns='ICPRB_BIOREGION_ID', inplace=True)"
   ]
  },
  {
   "cell_type": "markdown",
   "metadata": {},
   "source": [
    "**Merge dataframes cmc_benthic and cmc_benthic_meta**"
   ]
  },
  {
   "cell_type": "code",
   "execution_count": 25,
   "metadata": {},
   "outputs": [],
   "source": [
    "merged_cmc_benthic = pd.merge(clean_benthic,\n",
    "                              unique_stations,\n",
    "                              how='left',\n",
    "                              on=['STATION_ID'],\n",
    "                              validate='many_to_one'\n",
    "                              )"
   ]
  },
  {
   "cell_type": "code",
   "execution_count": 26,
   "metadata": {},
   "outputs": [],
   "source": [
    "# save merged_cmc_benthic as csv file\n",
    "\n",
    "# merged_cmc_benthic.to_csv('/Users/bibor/Hack_the_Bay/Data/Merged_Benthic.csv', index=False)"
   ]
  },
  {
   "cell_type": "markdown",
   "metadata": {},
   "source": [
    "**Check data - is ecoli present**"
   ]
  },
  {
   "cell_type": "code",
   "execution_count": 27,
   "metadata": {},
   "outputs": [],
   "source": [
    "def check_ecoli(column):\n",
    "    '''function to check \n",
    "        if ecoli is among the values of a column'''\n",
    "    # mask: transform value into lower case characters and look for 'ecoli' in string\n",
    "    mask = merged_cmc_benthic[column].str.lower().str.contains('ecoli', na=False)\n",
    "    # return dataframe where mask is True\n",
    "    return merged_cmc_benthic.loc[mask]"
   ]
  },
  {
   "cell_type": "code",
   "execution_count": 28,
   "metadata": {},
   "outputs": [
    {
     "name": "stdout",
     "output_type": "stream",
     "text": [
      "TAXON_LEVEL checked\n",
      "PHYLUM checked\n",
      "SUBPHYLUM checked\n",
      "CLASS checked\n",
      "SUBCLASS checked\n",
      "ORDER checked\n",
      "SUBORDER checked\n",
      "FAMILY checked\n",
      "SUBFAMILY checked\n",
      "TRIBE checked\n"
     ]
    }
   ],
   "source": [
    "# check all columns where data type is string\n",
    "for column in merged_cmc_benthic.columns[10:20]:\n",
    "    if merged_cmc_benthic[column].dtype != 'int64':\n",
    "        print(column, 'checked')\n",
    "        check_ecoli(column)"
   ]
  },
  {
   "cell_type": "markdown",
   "metadata": {},
   "source": [
    "No ecoli in cmc_benthic either. "
   ]
  }
 ],
 "metadata": {
  "kernelspec": {
   "display_name": "Python 3",
   "language": "python",
   "name": "python3"
  },
  "language_info": {
   "codemirror_mode": {
    "name": "ipython",
    "version": 3
   },
   "file_extension": ".py",
   "mimetype": "text/x-python",
   "name": "python",
   "nbconvert_exporter": "python",
   "pygments_lexer": "ipython3",
   "version": "3.7.7"
  }
 },
 "nbformat": 4,
 "nbformat_minor": 4
}
